{
  "cells": [
    {
      "cell_type": "markdown",
      "metadata": {
        "colab_type": "text",
        "id": "view-in-github"
      },
      "source": [
        "<a href=\"https://colab.research.google.com/github/Nhat-Thanh/PixelRL-SR/blob/main/PixelRL-SR.ipynb\" target=\"_parent\"><img src=\"https://colab.research.google.com/assets/colab-badge.svg\" alt=\"Open In Colab\"/></a>"
      ]
    },
    {
      "cell_type": "markdown",
      "metadata": {
        "id": "BSIOX9FkHia1"
      },
      "source": [
        "# **Mount drive**"
      ]
    },
    {
      "cell_type": "code",
      "execution_count": null,
      "metadata": {
        "id": "yCloRCJUo4ID"
      },
      "outputs": [],
      "source": [
        "from google.colab import drive\n",
        "drive.mount('/content/drive')"
      ]
    },
    {
      "cell_type": "markdown",
      "metadata": {
        "id": "0qFuIBWYtEA-"
      },
      "source": [
        "# **Train**"
      ]
    },
    {
      "cell_type": "code",
      "execution_count": null,
      "metadata": {
        "id": "PPCGdKig5vk2"
      },
      "outputs": [],
      "source": [
        "!git clone https://github.com/VIctorYeyou/RL_SR.git"
      ]
    },
    {
      "cell_type": "code",
      "execution_count": null,
      "metadata": {
        "id": "ObSYDegp522L"
      },
      "outputs": [],
      "source": [
        "%cd /content/PixelRL-SR/"
      ]
    },
    {
      "cell_type": "code",
      "execution_count": null,
      "metadata": {
        "id": "a3UcoGtD6nlu"
      },
      "outputs": [],
      "source": [
        "!git pull"
      ]
    },
    {
      "cell_type": "code",
      "execution_count": null,
      "metadata": {
        "id": "O5z4mxsO6DOM"
      },
      "outputs": [],
      "source": [
        "# Train model x2\n",
        "!rm -rf dataset/*npy\n",
        "!python train.py --scale=2              \\\n",
        "                 --steps=2000           \\\n",
        "                 --batch-size=64        \\\n",
        "                 --save-every=50        \\\n",
        "                 --save-log=0           \\\n",
        "                 --ckpt-dir=\"checkpoint/x2\"\n"
      ]
    },
    {
      "cell_type": "code",
      "execution_count": null,
      "metadata": {
        "id": "dSyUXq6VKruM"
      },
      "outputs": [],
      "source": [
        "# Train model x3\n",
        "!rm -rf dataset/*npy\n",
        "!python train.py --scale=3              \\\n",
        "                 --steps=2000           \\\n",
        "                 --batch-size=64        \\\n",
        "                 --save-every=50        \\\n",
        "                 --save-log=0           \\\n",
        "                 --ckpt-dir=\"checkpoint/x3\""
      ]
    },
    {
      "cell_type": "code",
      "execution_count": null,
      "metadata": {
        "id": "BNJdKeDoKHne"
      },
      "outputs": [],
      "source": [
        "# Train model x4\n",
        "!rm -rf dataset/*npy\n",
        "!python train.py --scale=4              \\\n",
        "                 --steps=2000           \\\n",
        "                 --batch-size=64        \\\n",
        "                 --save-every=50        \\\n",
        "                 --save-log=0           \\\n",
        "                 --ckpt-dir=\"checkpoint/x4\""
      ]
    },
    {
      "cell_type": "markdown",
      "metadata": {
        "id": "c0SMav9oKLlh"
      },
      "source": [
        "#**Test**"
      ]
    },
    {
      "cell_type": "code",
      "execution_count": null,
      "metadata": {
        "colab": {
          "base_uri": "https://localhost:8080/"
        },
        "id": "NiEtl9MOeCBM",
        "outputId": "258ef513-f84e-4e01-c202-a36b9e6d5e4b"
      },
      "outputs": [
        {
          "name": "stdout",
          "output_type": "stream",
          "text": [
            "Average reward: 24.9894 - PSNR: 38.7633\n",
            "Average reward: 34.8964 - PSNR: 34.6700\n",
            "Average reward: 26.9405 - PSNR: 32.0406\n"
          ]
        }
      ],
      "source": [
        "# test on Set5\n",
        "!python test.py --scale=2 --ckpt-path=\"default\"\n",
        "!python test.py --scale=3 --ckpt-path=\"default\"\n",
        "!python test.py --scale=4 --ckpt-path=\"default\""
      ],
      "source": [
        "# test",
        "!python test2.py --scale=4 --ckpt-path=\"default\""
      ]
    },
    {
      "cell_type": "markdown",
      "metadata": {
        "id": "46wGFCHhMHs_"
      },
      "source": [
        "#**Demo**"
      ]
    },
    {
      "cell_type": "code",
      "execution_count": null,
      "metadata": {
        "id": "javbIvKMMJAl"
      },
      "outputs": [],
      "source": [
        "!python demo.py --scale=2           \\\n",
        "                --draw-action-map=0 \\\n",
        "                --image-path=\"dataset/test2.png\""
      ]
    },
    {
      "cell_type": "markdown",
      "metadata": {
        "id": "mXR3GIR_RumX"
      },
      "source": [
        "# **Dataset files**"
      ]
    },
    {
      "cell_type": "code",
      "execution_count": null,
      "metadata": {
        "id": "Y5PICMo-ThER"
      },
      "outputs": [],
      "source": [
        "%%writefile dataset-files.sh\n",
        "\n",
        "OPTION=$1\n",
        "DATASET_DIR=\"/content/PixelRL-SR/dataset\"\n",
        "DRIVE_DIR=\"/content/drive/MyDrive/PixelRL-SR\"\n",
        "SUBSETS=(\"train\" \"validation\")\n",
        "TYPE=(\"data\" \"labels\" \"bicubic\")\n",
        "\n",
        "mkdir -p ${DRIVE_DIR}\n",
        "for type in ${TYPE[*]}; do\n",
        "    for subset in ${SUBSETS[*]}; do\n",
        "        # copy all generated dataset files to your drive\n",
        "        if [ \"$OPTION\" == \"copy to drive\" ]; then\n",
        "            cp -vf ${DATASET_DIR}/${type}_${subset}.npy ${DRIVE_DIR}\n",
        "\n",
        "        # copy all saved dataset files from your drive to dataset directory\n",
        "        elif [ \"$OPTION\" == \"copy from drive\" ]; then\n",
        "            cp -vf ${DRIVE_DIR}/${type}_${subset}.npy   ${DATASET_DIR}\n",
        "        \n",
        "        # delete all generated dataset files in dataset directory\n",
        "        elif [ \"${OPTION}\" == \"remove\" ]; then\n",
        "            rm -vf ${DATASET_DIR}/${type}_${subset}.npy\n",
        "        fi\n",
        "    done\n",
        "done"
      ]
    },
    {
      "cell_type": "code",
      "execution_count": null,
      "metadata": {
        "id": "1n2cLVMYUDx3"
      },
      "outputs": [],
      "source": [
        "# !bash dataset-files.sh \"copy to drive\"\n",
        "# !bash dataset-files.sh \"copy from drive\"\n",
        "# !bash dataset-files.sh \"remove\""
      ]
    },
    {
      "cell_type": "markdown",
      "metadata": {
        "id": "APDYH1_F6Rum"
      },
      "source": [
        "# **Checkpoint**"
      ]
    },
    {
      "cell_type": "code",
      "execution_count": null,
      "metadata": {
        "id": "UJu5zeBgtdDL"
      },
      "outputs": [],
      "source": [
        "%%writefile ckpt.sh\n",
        "OPTION=$1\n",
        "\n",
        "DRIVE_DIR=\"/content/drive/MyDrive/PixelRL-SR\"\n",
        "SRC=\"/content/PixelRL-SR/checkpoint\"\n",
        "DES=\"${DRIVE_DIR}/checkpoint\"\n",
        "SUBSETS=(\"x2\" \"x3\" \"x4\")\n",
        "\n",
        "mkdir -p ${DRIVE_DIR}\n",
        "for subset in ${SUBSETS[*]}; do\n",
        "    # remove all checkpoint files in sub-directories in checkpoint directory\n",
        "    if [ \"${OPTION}\" == \"remove\" ]; then\n",
        "        rm -vrf ${SRC}/${subset}\n",
        "        mkdir -p ${SRC}/${subset}\n",
        "\n",
        "    # copy all checkpoint directories to your drive\n",
        "    elif [ \"${OPTION}\" == \"copy to drive\" ]; then\n",
        "        mkdir -p ${DES}\n",
        "        mkdir -p ${DES}/${subset}\n",
        "        cp -vrf ${SRC}/${subset}/. ${DES}/${subset}\n",
        "\n",
        "    # copy all saved checkpoint files from your drive to checkpoint directory\n",
        "    elif [ \"${OPTION}\" == \"copy from drive\" ]; then\n",
        "        mkdir -p ${SRC}\n",
        "        mkdir -p ${SRC}/${subset}\n",
        "        cp -vrf ${DES}/${subset}/. ${SRC}/${subset}\n",
        "    fi\n",
        "\n",
        "done"
      ]
    },
    {
      "cell_type": "code",
      "execution_count": null,
      "metadata": {
        "id": "K3r9vXdj2pE3"
      },
      "outputs": [],
      "source": [
        "# !bash ckpt.sh \"copy from drive\"\n",
        "# !bash ckpt.sh \"copy to drive\"\n",
        "# !bash ckpt.sh \"remove\""
      ]
    }
  ],
  "metadata": {
    "accelerator": "GPU",
    "colab": {
      "authorship_tag": "ABX9TyNRd6ubdCln4o1H3iirEeCU",
      "collapsed_sections": [],
      "include_colab_link": true,
      "name": "PixelRL-SR.ipynb",
      "provenance": []
    },
    "kernelspec": {
      "display_name": "Python 3",
      "name": "python3"
    },
    "language_info": {
      "name": "python"
    }
  },
  "nbformat": 4,
  "nbformat_minor": 0
}
